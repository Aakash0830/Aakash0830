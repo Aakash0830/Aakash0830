{
  "nbformat": 4,
  "nbformat_minor": 0,
  "metadata": {
    "colab": {
      "provenance": [],
      "authorship_tag": "ABX9TyOkXxvwUYTifvh7A+MLfnql",
      "include_colab_link": true
    },
    "kernelspec": {
      "name": "python3",
      "display_name": "Python 3"
    },
    "language_info": {
      "name": "python"
    }
  },
  "cells": [
    {
      "cell_type": "markdown",
      "metadata": {
        "id": "view-in-github",
        "colab_type": "text"
      },
      "source": [
        "<a href=\"https://colab.research.google.com/github/Aakash0830/Aakash0830/blob/main/Copy_of_DAY_1.ipynb\" target=\"_parent\"><img src=\"https://colab.research.google.com/assets/colab-badge.svg\" alt=\"Open In Colab\"/></a>"
      ]
    },
    {
      "cell_type": "markdown",
      "source": [
        "1.Write a program to create a new string made of an input string’s first, middle, and last character."
      ],
      "metadata": {
        "id": "fDIZeBVXgytu"
      }
    },
    {
      "cell_type": "code",
      "source": [
        "input_string = input(\"Enter a string: \")\n",
        "if len(input_string) >= 3:\n",
        "    middle_index = len(input_string) // 2\n",
        "    middle_characters = input_string[middle_index - 1:middle_index + 2]\n",
        "    print(\"New string:\", middle_characters)\n",
        "else:\n",
        "    print(\"Input string is too short.\")"
      ],
      "metadata": {
        "colab": {
          "base_uri": "https://localhost:8080/"
        },
        "id": "nO4dScJEg7uw",
        "outputId": "29a1f465-8051-4bb0-fad6-028cec19e7fb"
      },
      "execution_count": null,
      "outputs": [
        {
          "output_type": "stream",
          "name": "stdout",
          "text": [
            "Enter a string: PRADEEP\n",
            "New string: ADE\n"
          ]
        }
      ]
    },
    {
      "cell_type": "markdown",
      "source": [
        "2.Write a program to create a new string made of the middle three characters of an input string."
      ],
      "metadata": {
        "id": "Qm9muhethAgF"
      }
    },
    {
      "cell_type": "code",
      "source": [
        "input_string = input(\"Enter a string: \")\n",
        "if len(input_string) > 0:\n",
        "    first_char = input_string[0]\n",
        "    last_char = input_string[-1]\n",
        "    middle_index = len(input_string) // 2\n",
        "    middle_char = input_string[middle_index]\n",
        "    output_string = first_char + middle_char + last_char\n",
        "    print(\"New string:\", output_string)\n",
        "else:\n",
        "    print(\"Input string is empty.\")"
      ],
      "metadata": {
        "colab": {
          "base_uri": "https://localhost:8080/"
        },
        "id": "Vj3eyd2JhN3a",
        "outputId": "49cb054c-6a40-4621-faca-2081e98f2e9e"
      },
      "execution_count": null,
      "outputs": [
        {
          "output_type": "stream",
          "name": "stdout",
          "text": [
            "Enter a string: PRADEEP\n",
            "New string: PDP\n"
          ]
        }
      ]
    },
    {
      "cell_type": "markdown",
      "source": [
        "3.Given two strings, str1 and str2. Write a program to create a new string str3 by appending str2 in the middle of str1."
      ],
      "metadata": {
        "id": "t1dZ2t9RhUn6"
      }
    },
    {
      "cell_type": "code",
      "source": [
        "input_string1 = input(\"Enter string1: \")\n",
        "input_string2 = input(\"Enter string2: \")\n",
        "middle_index = len(input_string2) // 2\n",
        "output_string = input_string2[:middle_index] + input_string1 + input_string2[middle_index:]\n",
        "print(\"New string:\", output_string)"
      ],
      "metadata": {
        "colab": {
          "base_uri": "https://localhost:8080/"
        },
        "id": "IR3BhDbFhXk1",
        "outputId": "87cc158a-147b-4954-95a3-d18a212e8dea"
      },
      "execution_count": null,
      "outputs": [
        {
          "output_type": "stream",
          "name": "stdout",
          "text": [
            "Enter string1: SUPER\n",
            "Enter string2: STAR\n",
            "New string: STSUPERAR\n"
          ]
        }
      ]
    },
    {
      "cell_type": "markdown",
      "source": [
        "4. Count all letters, digits, and special symbols from a given string. str1 = \"P@#yn26at^&i5ve\""
      ],
      "metadata": {
        "id": "86SsnJoqhqSr"
      }
    },
    {
      "cell_type": "code",
      "source": [
        "Input_string = input(\"Enter the string: \")\n",
        "char_count = 0\n",
        "digit_count = 0\n",
        "symbol_count = 0\n",
        "for char in input_string:\n",
        "    if char.isalpha():\n",
        "        char_count += 1\n",
        "    elif char.isdigit():\n",
        "        digit_count += 1\n",
        "    else:\n",
        "        symbol_count += 1\n",
        "print(\"Characters:\", char_count)\n",
        "print(\"Digits:\", digit_count)\n",
        "print(\"Symbols:\", symbol_count)"
      ],
      "metadata": {
        "id": "Ho_7EVIghu3T",
        "outputId": "09f3e858-fcc1-442b-fa18-dccd26db5f82",
        "colab": {
          "base_uri": "https://localhost:8080/"
        }
      },
      "execution_count": null,
      "outputs": [
        {
          "output_type": "stream",
          "name": "stdout",
          "text": [
            "Enter the string: P@#yn26at^&i5ve\n",
            "Characters: 7\n",
            "Digits: 0\n",
            "Symbols: 0\n"
          ]
        }
      ]
    },
    {
      "cell_type": "markdown",
      "source": [
        "6. Given two strings, s1 and s2. Write a program to create a new string s3 made of the first char of s1, then the last char of s2, Next, the second char of s1 and second last char of s2, and so on. Any leftover chars go at the end of the result.\n",
        "\n"
      ],
      "metadata": {
        "id": "Vx738gu-iF5m"
      }
    },
    {
      "cell_type": "code",
      "source": [
        "input_string1 = input(\"Enter string1: \")\n",
        "input_string2 = input(\"Enter string2: \")\n",
        "result_string = \"\"\n",
        "max_length = max(len(input_string1), len(input_string2))\n",
        "for i in range(max_length):\n",
        "    if i < len(input_string1):\n",
        "        result_string += input_string1[i]\n",
        "    if i < len(input_string2):\n",
        "        result_string += input_string2[-(i + 1)]\n",
        "print(\"New string:\", result_string)\n"
      ],
      "metadata": {
        "id": "zSA9C_z_iKws",
        "outputId": "b22c74c7-4f48-4180-8832-d091dae6584c",
        "colab": {
          "base_uri": "https://localhost:8080/"
        }
      },
      "execution_count": null,
      "outputs": [
        {
          "output_type": "stream",
          "name": "stdout",
          "text": [
            "Enter string1: Abc\n",
            "Enter string2: Xyz\n",
            "New string: AzbycX\n"
          ]
        }
      ]
    }
  ]
}